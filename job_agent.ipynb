{
 "cells": [
  {
   "cell_type": "code",
   "execution_count": null,
   "id": "98f90f15",
   "metadata": {},
   "outputs": [],
   "source": [
    "from langchain_core.messages import HumanMessage, AIMessage, ToolMessage, SystemMessage\n",
    "from langchain_core.prompts import ChatPromptTemplate, MessagesPlaceholder\n",
    "from langchain_ollama.chat_models import ChatOllama\n",
    "from langchain.tools.render import render_text_description\n",
    "from langgraph.prebuilt import create_react_agent\n",
    "from langchain.output_parsers import PydanticOutputParser"
   ]
  },
  {
   "cell_type": "code",
   "execution_count": null,
   "id": "842e8543",
   "metadata": {},
   "outputs": [],
   "source": [
    "import operator\n",
    "import uuid\n",
    "import json\n",
    "from json import JSONDecodeError\n",
    "from pydantic import BaseModel, Field, ValidationError, field_validator\n",
    "from utility import generate_tools, extract_relevant_info\n",
    "from typing import TypedDict, Annotated, Sequence, List, Literal, ClassVar"
   ]
  },
  {
   "cell_type": "code",
   "execution_count": null,
   "id": "57b4f1f4",
   "metadata": {},
   "outputs": [],
   "source": [
    "_, model_tools = generate_tools(\"resume.json\")\n",
    "model_name = \"deepseek-r1:14b\"\n",
    "job_link = \"https://www.linkedin.com/jobs/collections/recommended/?currentJobId=4037021039&discover=recommended&discoveryOrigin=JOBS_HOME_JYMBII\"\n",
    "# job_link = \"https://www.linkedin.com/jobs/view/4246320795\""
   ]
  },
  {
   "cell_type": "code",
   "execution_count": null,
   "id": "2232c10e",
   "metadata": {},
   "outputs": [],
   "source": [
    "class ToolCall(BaseModel):\n",
    "    _id_counter: ClassVar[int] = 1\n",
    "\n",
    "    tool_name: Literal['navigate_browser', 'query_resume', 'get_all_elements', 'fill_element', 'click_element'] \\\n",
    "        = Field(description=\"Name of the tool to be used.\")\n",
    "    tool_inputs: dict\n",
    "    tool_id: int\n",
    "\n",
    "    def __init__(self, **data):\n",
    "        data['tool_id'] = self.__class__._id_counter\n",
    "        self.__class__._id_counter += 1\n",
    "\n",
    "        super().__init__(**data)\n",
    "\n",
    "    def __restart_toolCounter(self):\n",
    "        self.__class__._id_counter = 0"
   ]
  },
  {
   "cell_type": "code",
   "execution_count": null,
   "id": "8f6732fb",
   "metadata": {},
   "outputs": [],
   "source": [
    "class Supervisor_Response(BaseModel):\n",
    "    application_success: bool\n",
    "    tool_call: List[ToolCall]\n",
    "    reasoning: str\n",
    "\n",
    "    @field_validator('tool_call', mode='before')\n",
    "    @classmethod\n",
    "    def check_tool_call_keys(cls, v):\n",
    "        if not isinstance(v, list):\n",
    "            raise ValueError('tool_call must be a list')\n",
    "        for item in v:\n",
    "            if not isinstance(item, dict):\n",
    "                raise ValueError('Each tool call must be a dict')\n",
    "            required_keys = {'tool_name', 'tool_inputs'}\n",
    "            if not required_keys.issubset(item.keys()):\n",
    "                missing = required_keys - item.keys()\n",
    "                raise ValueError(f\"Missing keys in tool call: {missing}. \"\n",
    "                                 \"Each tool call must use 'tool_name' and 'inputs' as keys.\")\n",
    "        return v\n",
    "\n",
    "    @field_validator('application_success', mode='before')\n",
    "    @classmethod\n",
    "    def check_application_success(cls, v):\n",
    "        if not isinstance(v, bool):\n",
    "            raise ValueError('application_success must be boolean')\n",
    "        return v"
   ]
  },
  {
   "cell_type": "code",
   "execution_count": null,
   "id": "ecb93a61",
   "metadata": {},
   "outputs": [],
   "source": [
    "class AgentState(TypedDict):\n",
    "    job_link: str\n",
    "    messages: Annotated[Sequence[HumanMessage | AIMessage | SystemMessage | ToolMessage], operator.add]\n",
    "    application_success: bool\n",
    "    tool_calls: List[ToolCall]\n",
    "    tool_outputs: List[dict]\n",
    "    tools_output_summary: str\n"
   ]
  },
  {
   "cell_type": "code",
   "execution_count": null,
   "id": "efd1bdc8",
   "metadata": {},
   "outputs": [],
   "source": [
    "reasoning_model_prompt_template = \"\"\"\n",
    "You are a Job Application Supervisor agent whose sole responsibility is to select the next tool action at each step of an automated job application process by analyzing the provided tool outputs summary.\n",
    "\n",
    "General Instructions:\n",
    "- Choose exactly one tool_call per turn.\n",
    "- Analyze only the **tools_output_summary** to decide the next action.\n",
    "- If **tools_output_summary** is empty, begin with `navigate_browser`.\n",
    "- If **tools_output_summary** does not contain elements information use `get_all_elements`.\n",
    "- Set \"application_success\": True only after the final submission step.\n",
    "\n",
    "Specific Instructions:\n",
    "- Login pages:\n",
    "  1. Use `query_resume` with input `login` if credentials are needed.\n",
    "  2. Fill \"username\" then \"password\" via `fill_element`.\n",
    "  3. Click \"Sign In\" via `click_element`.\n",
    "- General application forms:\n",
    "  1. If fields are unknown, call `get_all_elements`.\n",
    "  2. Use `query_resume` to retrieve relevant information.\n",
    "  3. Fill each required field in order via `fill_element`.\n",
    "  4. Click “Next” or “Continue” or \"Submit\" via `click_element`.\n",
    "- Submission pages:\n",
    "  - Click “Submit” via `click_element`, then set \"application_success\": True.\n",
    "\n",
    "Available Tools and Descriptions:\n",
    "{tools_description}\n",
    "\n",
    "Generate output in the following format:\n",
    "{format_instructions}\n",
    "\"\"\""
   ]
  },
  {
   "cell_type": "code",
   "execution_count": null,
   "id": "835ad2cd",
   "metadata": {},
   "outputs": [],
   "source": [
    "# reasoning_model_prompt_template = \"\"\"\n",
    "# You are a Job Application Supervisor agent.\n",
    "\n",
    "# Your task: At each step, Analyse current tool_output summary to select the next tool_call and its inputs.\n",
    "\n",
    "# General Instructions:\n",
    "# 1. At the begining of the application always navigate to the job link.\n",
    "# 2. Read tool descriptions to understand what should be the input for the tool.\n",
    "# 3. never call more than one tool in a single step.\n",
    "# 4. Analyse the tool_output summary to select next action. Provide reasoning for the same.\n",
    "# 5. Only interact with essential elements on any page.\n",
    "# 6. Only once the Job Application is completed return 'application_flag' as True.\n",
    "\n",
    "# Specific Instruction:\n",
    "# 1. Always use 'query_resume' tool with appropriate keywords (refer tool_description) to get information e.g. ('login' for login credentials etc).\n",
    "# 2. At the begining of the application, The tool_call summary is expected to be empty.\n",
    "# 2. For general Job application pages the element priority is as follows:\n",
    "#    - Required form fields\n",
    "#    - Continue / Next buttons\n",
    "#    - Submit buttons\n",
    "# 3. For login pages the element priority is as follows:\n",
    "#    - First fill username\n",
    "#    - Then fill password\n",
    "#    - Finally click Sign In\n",
    "\n",
    "# Available Tools and Descriptions:\n",
    "# {tools_description}\n",
    "\n",
    "# Generate output in the following format:\n",
    "# {format_instructions}\n",
    "# \"\"\""
   ]
  },
  {
   "cell_type": "code",
   "execution_count": null,
   "id": "d4268838",
   "metadata": {},
   "outputs": [],
   "source": [
    "model_tools_dictionary = {\n",
    "        'navigate_browser': model_tools[4],\n",
    "        'query_resume': model_tools[3],\n",
    "        'get_all_elements': model_tools[2],\n",
    "        'fill_element': model_tools[1],\n",
    "        'click_element': model_tools[0]\n",
    "        }"
   ]
  },
  {
   "cell_type": "code",
   "execution_count": null,
   "id": "730d2421",
   "metadata": {},
   "outputs": [],
   "source": [
    "supervisor_parser = PydanticOutputParser(pydantic_object=Supervisor_Response)\n",
    "\n",
    "supervisor_formatted_prompt = ChatPromptTemplate.from_messages([\n",
    "    (\"system\", reasoning_model_prompt_template),\n",
    "    MessagesPlaceholder(variable_name=\"messages\"),\n",
    "    (\n",
    "        \"human\",\n",
    "        \"\"\"Job_link: {job_link}\\nTool Call History: {tools_output_summary}\\nSelect next action from {options}\"\"\"\n",
    "    )\n",
    "]).partial(\n",
    "    tools_description = render_text_description(model_tools),\n",
    "    format_instructions = supervisor_parser.get_format_instructions(),\n",
    "    options = \", \".join(['navigate_browser', 'query_resume', 'get_all_elements', 'fill_element', 'click_element'])\n",
    "    )"
   ]
  },
  {
   "cell_type": "code",
   "execution_count": null,
   "id": "0600a0e4",
   "metadata": {},
   "outputs": [],
   "source": [
    "reason_llama = ChatOllama(model=model_name)\n",
    "reasoning_chain = supervisor_formatted_prompt | reason_llama.with_structured_output(Supervisor_Response)"
   ]
  },
  {
   "cell_type": "code",
   "execution_count": null,
   "id": "6e0f3e43",
   "metadata": {},
   "outputs": [],
   "source": [
    "def prepare_state(state: dict):\n",
    "    tool_outputs = state.get(\"tool_outputs\", [])\n",
    "    summary = \"\"\n",
    "\n",
    "    for output in tool_outputs:\n",
    "        tool_id = output.get('tool_id', None)\n",
    "        if tool_id:\n",
    "            del output['tool_id']\n",
    "        summary += \"\\n\\n\".join([f\"{key} - {tool_id if tool_id else -1}\\nContent: {val}\" for key, val in output.items()])\n",
    "\n",
    "    return {**state, \"tools_output_summary\": summary}"
   ]
  },
  {
   "cell_type": "code",
   "execution_count": null,
   "id": "f21e113a",
   "metadata": {},
   "outputs": [],
   "source": [
    "async def Apply_job(state: AgentState) -> AgentState:\n",
    "    while state.get('application_success') != True:\n",
    "        prepared_state = prepare_state(state)\n",
    "\n",
    "        supervisor_response = reasoning_chain.invoke(prepared_state)\n",
    "\n",
    "        supervisor_result = Supervisor_Response.model_validate(supervisor_response)\n",
    "\n",
    "        flag = supervisor_result.application_success\n",
    "\n",
    "        tool_call_list = supervisor_result.tool_call\n",
    "\n",
    "        assert isinstance(tool_call_list, list)\n",
    "\n",
    "        reason = supervisor_result.reasoning\n",
    "        print(\"Reasoning: \", reason)\n",
    "\n",
    "        # Not required checks as model_validate will throw error if not proper output\n",
    "        if isinstance(flag, bool) and flag is not None:\n",
    "            state['application_success'] = flag\n",
    "\n",
    "        if tool_call_list:\n",
    "            state['tool_calls'].extend(tool_call_list)\n",
    "\n",
    "\n",
    "        tool_call = tool_call_list[0]\n",
    "        name = tool_call.tool_name\n",
    "        inputs = tool_call.tool_inputs\n",
    "        call_id = tool_call.tool_id\n",
    "\n",
    "        response = ''\n",
    "        print(\"Tool Call\", name, inputs)\n",
    "\n",
    "        actual_tool = model_tools_dictionary.get(name)\n",
    "\n",
    "        try:\n",
    "            response = json.loads(await actual_tool.arun(inputs))\n",
    "        except JSONDecodeError as e:\n",
    "            print(f\"Error {e}\")\n",
    "\n",
    "        result = response.get('result', {})\n",
    "\n",
    "        if not result:\n",
    "            state['messages'].append(HumanMessage(content=f\"Tool Call for tool: {name} did not return output. Try Again\", name=\"Tool_Call\"))\n",
    "            state['tool_outputs'].append({name: \"Tool Call did not return output. Try Again\", 'tool_id': call_id})\n",
    "\n",
    "        if result and isinstance(result, str):\n",
    "            state['tool_outputs'].append({name: result, 'tool_id': call_id})\n",
    "        else:\n",
    "            assert isinstance(result, dict) == True\n",
    "            title = result.get('Page Title', '')\n",
    "            content = result.get('Page Elements Summary', '')\n",
    "            state['tool_outputs'].append({name: title, 'tool_id': call_id})\n",
    "            state['tool_outputs'].append({name: content, 'tool_id': call_id})\n",
    "\n",
    "        state['messages'].append(HumanMessage(content=json.dumps(result), name=\"Tool_Call\"))\n"
   ]
  },
  {
   "cell_type": "code",
   "execution_count": null,
   "id": "f4531ed9",
   "metadata": {},
   "outputs": [],
   "source": [
    "start_state = AgentState(\n",
    "    job_link = job_link,\n",
    "    messages=[\n",
    "        HumanMessage(content=\"Begin Job Application.\")\n",
    "    ],\n",
    "    application_flag=False,\n",
    "    tool_calls=[],\n",
    "    tool_outputs=[],\n",
    "    tools_output_summary=\"\"\n",
    ")"
   ]
  },
  {
   "cell_type": "code",
   "execution_count": null,
   "id": "21a6998d",
   "metadata": {},
   "outputs": [],
   "source": [
    "end_state = await Apply_job(start_state)"
   ]
  },
  {
   "cell_type": "code",
   "execution_count": null,
   "id": "8da07ee3",
   "metadata": {},
   "outputs": [],
   "source": [
    "test = reasoning_chain.invoke(start_state)\n",
    "test"
   ]
  },
  {
   "cell_type": "code",
   "execution_count": null,
   "id": "074bfd66",
   "metadata": {},
   "outputs": [],
   "source": [
    "test.tool_call[0]"
   ]
  },
  {
   "cell_type": "code",
   "execution_count": null,
   "id": "d07d6d43",
   "metadata": {},
   "outputs": [],
   "source": [
    "job_agent = create_react_agent(\n",
    "    model=ollama_llm,\n",
    "    tools=model_tools,\n",
    "    # prompt=system_prompt.format(tools=render_text_description(model_tools)),\n",
    "    state_schema=AgentState\n",
    ")"
   ]
  },
  {
   "cell_type": "code",
   "execution_count": null,
   "id": "f63250a7",
   "metadata": {},
   "outputs": [],
   "source": [
    "user_prompt = \"\"\"\n",
    "For the job_link: {job_link}\n",
    "\n",
    "Use the provided tools appropriately to complete the job application.\n",
    "\n",
    "Available Tools and Descriptions:\n",
    "{tools}\n",
    "\n",
    "\"\"\".format(job_link=job_link, tools=render_text_description(model_tools))"
   ]
  },
  {
   "cell_type": "code",
   "execution_count": null,
   "id": "cf1b863d",
   "metadata": {},
   "outputs": [],
   "source": [
    "initial_state = dict(\n",
    "    # elements_summary={},\n",
    "    # elementsOfInterest={},\n",
    "    # actions_planned={},\n",
    "    messages=[HumanMessage(content=user_prompt)],\n",
    "    remaining_steps=20\n",
    ")"
   ]
  },
  {
   "cell_type": "code",
   "execution_count": null,
   "id": "f09b1bb3",
   "metadata": {},
   "outputs": [],
   "source": [
    "async for chunk in job_agent.astream(\n",
    "    initial_state,\n",
    "    stream_mode=\"updates\"\n",
    "):\n",
    "    # print(await extract_relevant_info(chunk))\n",
    "    print(chunk)"
   ]
  },
  {
   "cell_type": "code",
   "execution_count": null,
   "id": "4ffe5995",
   "metadata": {},
   "outputs": [],
   "source": [
    "# [{'type': 'AIMessage', 'content': \"To answer your question, I will follow these steps:\\n\\n1. Navigate to the job link.\\n2. Retrieve Page title and elements summary.\\n3. Analyze the elements summary along with page title to determine the elements of interest.\\n4. For Identified elements of interest containing action 'fill', Retrieve text with resume query tool.\\n5. Use the appropriate tool to fill or click the elements of interest along with the relevant inputs.\\n\\nHere is a JSON that best answers your prompt:\\n\\n```json\", 'tool_calls': [{'tool_name': 'navigate_browser', 'input': {'url': 'https://www.linkedin.com/jobs/collections/recommended/?currentJobId=4037021039&discover=recommended&discoveryOrigin=JOBS_HOME_JYMBII'}}, {'tool_name': 'get_all_elements', 'input': {}}]}]\n",
    "# [{'type': 'ToolMessage', 'content': {'Page Title': '', 'Page Elements Summary': []}, 'tool_name': 'get_all_elements'}]\n",
    "# [{'type': 'ToolMessage', 'content': 'Navigating successfull.', 'tool_name': 'navigate_browser'}]\n",
    "# [{'type': 'AIMessage', 'content': \"We can't get the page elements summary since it's empty. Let's navigate to the page and try again.\\n\\n\\n\", 'tool_calls': [{'tool_name': 'get_all_elements', 'input': {}}]}]\n",
    "# [{'type': 'ToolMessage', 'content': {'Page Title': 'LinkedIn Login, Sign in | LinkedIn', 'Page Elements Summary': [{'selector': 'button.artdeco-global-alert-action.artdeco-button.artdeco-button--inverse.artdeco-button--2.artdeco-button--primary', 'attributes': {'id': None, 'aria-label': None, 'type': None, 'maxlength': None}, 'possible_actions': ['click']}, {'selector': 'button.artdeco-global-alert-action.artdeco-button.artdeco-button--inverse.artdeco-button--2.artdeco-button--primary', 'attributes': {'id': None, 'aria-label': None, 'type': None, 'maxlength': None}, 'possible_actions': ['click']}, {'selector': 'button.sign-in-with-apple-button', 'attributes': {'id': None, 'aria-label': 'Sign in with Apple', 'type': 'button', 'maxlength': None}, 'possible_actions': ['click']}, {'selector': '#username', 'attributes': {'id': 'username', 'aria-label': 'Email or phone', 'type': 'email', 'maxlength': None}, 'possible_actions': ['fill']}, {'selector': '#password', 'attributes': {'id': 'password', 'aria-label': 'Password', 'type': 'password', 'maxlength': None}, 'possible_actions': ['fill']}, {'selector': 'button.btn__primary--large.from__button--floating', 'attributes': {'id': None, 'aria-label': 'Sign in', 'type': 'submit', 'maxlength': None}, 'possible_actions': ['click']}, {'selector': '#btn-resend-otp', 'attributes': {'id': 'btn-resend-otp', 'aria-label': 'Resend email', 'type': 'button', 'maxlength': None}, 'possible_actions': []}, {'selector': '#otp-cancel-button', 'attributes': {'id': 'otp-cancel-button', 'aria-label': 'Back', 'type': None, 'maxlength': None}, 'possible_actions': []}, {'selector': 'button.language-selector__button', 'attributes': {'id': None, 'aria-label': None, 'type': None, 'maxlength': None}, 'possible_actions': ['click']}, {'selector': 'button.language-selector__link', 'attributes': {'id': None, 'aria-label': 'العربية (Arabic) 1 of 36 ', 'type': 'button', 'maxlength': None}, 'possible_actions': []}, {'selector': 'button.language-selector__link', 'attributes': {'id': None, 'aria-label': 'বাংলা (Bangla) 2 of 36 ', 'type': 'button', 'maxlength': None}, 'possible_actions': []}, {'selector': 'button.language-selector__link', 'attributes': {'id': None, 'aria-label': 'Čeština (Czech) 3 of 36 ', 'type': 'button', 'maxlength': None}, 'possible_actions': []}, {'selector': 'button.language-selector__link', 'attributes': {'id': None, 'aria-label': 'Dansk (Danish) 4 of 36 ', 'type': 'button', 'maxlength': None}, 'possible_actions': []}, {'selector': 'button.language-selector__link', 'attributes': {'id': None, 'aria-label': 'Deutsch (German) 5 of 36 ', 'type': 'button', 'maxlength': None}, 'possible_actions': []}, {'selector': 'button.language-selector__link', 'attributes': {'id': None, 'aria-label': 'Ελληνικά (Greek) 6 of 36 ', 'type': 'button', 'maxlength': None}, 'possible_actions': []}, {'selector': 'button.language-selector__link.language-selector__link--selected', 'attributes': {'id': None, 'aria-label': 'English (English) 7 of 36 selected', 'type': 'button', 'maxlength': None}, 'possible_actions': []}, {'selector': 'button.language-selector__link', 'attributes': {'id': None, 'aria-label': 'Español (Spanish) 8 of 36 ', 'type': 'button', 'maxlength': None}, 'possible_actions': []}, {'selector': 'button.language-selector__link', 'attributes': {'id': None, 'aria-label': 'فارسی (Persian) 9 of 36 ', 'type': 'button', 'maxlength': None}, 'possible_actions': []}, {'selector': 'button.language-selector__link', 'attributes': {'id': None, 'aria-label': 'Suomi (Finnish) 10 of 36 ', 'type': 'button', 'maxlength': None}, 'possible_actions': []}, {'selector': 'button.language-selector__link', 'attributes': {'id': None, 'aria-label': 'Français (French) 11 of 36 ', 'type': 'button', 'maxlength': None}, 'possible_actions': []}, {'selector': 'button.language-selector__link', 'attributes': {'id': None, 'aria-label': 'हिंदी (Hindi) 12 of 36 ', 'type': 'button', 'maxlength': None}, 'possible_actions': []}, {'selector': 'button.language-selector__link', 'attributes': {'id': None, 'aria-label': 'Magyar (Hungarian) 13 of 36 ', 'type': 'button', 'maxlength': None}, 'possible_actions': []}, {'selector': 'button.language-selector__link', 'attributes': {'id': None, 'aria-label': 'Bahasa Indonesia (Indonesian) 14 of 36 ', 'type': 'button', 'maxlength': None}, 'possible_actions': []}, {'selector': 'button.language-selector__link', 'attributes': {'id': None, 'aria-label': 'Italiano (Italian) 15 of 36 ', 'type': 'button', 'maxlength': None}, 'possible_actions': []}, {'selector': 'button.language-selector__link', 'attributes': {'id': None, 'aria-label': 'עברית (Hebrew) 16 of 36 ', 'type': 'button', 'maxlength': None}, 'possible_actions': []}, {'selector': 'button.language-selector__link', 'attributes': {'id': None, 'aria-label': '日本語 (Japanese) 17 of 36 ', 'type': 'button', 'maxlength': None}, 'possible_actions': []}, {'selector': 'button.language-selector__link', 'attributes': {'id': None, 'aria-label': '한국어 (Korean) 18 of 36 ', 'type': 'button', 'maxlength': None}, 'possible_actions': []}, {'selector': 'button.language-selector__link', 'attributes': {'id': None, 'aria-label': 'मराठी (Marathi) 19 of 36 ', 'type': 'button', 'maxlength': None}, 'possible_actions': []}, {'selector': 'button.language-selector__link', 'attributes': {'id': None, 'aria-label': 'Bahasa Malaysia (Malay) 20 of 36 ', 'type': 'button', 'maxlength': None}, 'possible_actions': []}, {'selector': 'button.language-selector__link', 'attributes': {'id': None, 'aria-label': 'Nederlands (Dutch) 21 of 36 ', 'type': 'button', 'maxlength': None}, 'possible_actions': []}, {'selector': 'button.language-selector__link', 'attributes': {'id': None, 'aria-label': 'Norsk (Norwegian) 22 of 36 ', 'type': 'button', 'maxlength': None}, 'possible_actions': []}, {'selector': 'button.language-selector__link', 'attributes': {'id': None, 'aria-label': 'ਪੰਜਾਬੀ (Punjabi) 23 of 36 ', 'type': 'button', 'maxlength': None}, 'possible_actions': []}, {'selector': 'button.language-selector__link', 'attributes': {'id': None, 'aria-label': 'Polski (Polish) 24 of 36 ', 'type': 'button', 'maxlength': None}, 'possible_actions': []}, {'selector': 'button.language-selector__link', 'attributes': {'id': None, 'aria-label': 'Português (Portuguese) 25 of 36 ', 'type': 'button', 'maxlength': None}, 'possible_actions': []}, {'selector': 'button.language-selector__link', 'attributes': {'id': None, 'aria-label': 'Română (Romanian) 26 of 36 ', 'type': 'button', 'maxlength': None}, 'possible_actions': []}, {'selector': 'button.language-selector__link', 'attributes': {'id': None, 'aria-label': 'Русский (Russian) 27 of 36 ', 'type': 'button', 'maxlength': None}, 'possible_actions': []}, {'selector': 'button.language-selector__link', 'attributes': {'id': None, 'aria-label': 'Svenska (Swedish) 28 of 36 ', 'type': 'button', 'maxlength': None}, 'possible_actions': []}, {'selector': 'button.language-selector__link', 'attributes': {'id': None, 'aria-label': 'తెలుగు (Telugu) 29 of 36 ', 'type': 'button', 'maxlength': None}, 'possible_actions': []}, {'selector': 'button.language-selector__link', 'attributes': {'id': None, 'aria-label': 'ภาษาไทย (Thai) 30 of 36 ', 'type': 'button', 'maxlength': None}, 'possible_actions': []}, {'selector': 'button.language-selector__link', 'attributes': {'id': None, 'aria-label': 'Tagalog (Tagalog) 31 of 36 ', 'type': 'button', 'maxlength': None}, 'possible_actions': []}, {'selector': 'button.language-selector__link', 'attributes': {'id': None, 'aria-label': 'Türkçe (Turkish) 32 of 36 ', 'type': 'button', 'maxlength': None}, 'possible_actions': []}, {'selector': 'button.language-selector__link', 'attributes': {'id': None, 'aria-label': 'Українська (Ukrainian) 33 of 36 ', 'type': 'button', 'maxlength': None}, 'possible_actions': []}, {'selector': 'button.language-selector__link', 'attributes': {'id': None, 'aria-label': 'Tiếng Việt (Vietnamese) 34 of 36 ', 'type': 'button', 'maxlength': None}, 'possible_actions': []}, {'selector': 'button.language-selector__link', 'attributes': {'id': None, 'aria-label': '简体中文 (Chinese (Simplified)) 35 of 36 ', 'type': 'button', 'maxlength': None}, 'possible_actions': []}, {'selector': 'button.language-selector__link', 'attributes': {'id': None, 'aria-label': '正體中文 (Chinese (Traditional)) 36 of 36 ', 'type': 'button', 'maxlength': None}, 'possible_actions': []}]}, 'tool_name': 'get_all_elements'}]\n",
    "# [{'type': 'AIMessage', 'content': 'Elements of interest: \\n1. username input field\\n2. password input field\\n3. login button\\n\\nAction Plan:\\n1. Fill username input field\\n2. Fill password input field\\n3. Click on the login button\\n\\nTool call to fill username input field:\\n\\n', 'tool_calls': [{'tool_name': 'fill_element', 'input': {'selector': '#username', 'text': 'linkedin email'}}]}]\n",
    "# [{'type': 'ToolMessage', 'content': 'Filled element #username with text linkedin email', 'tool_name': 'fill_element'}]\n",
    "# [{'type': 'AIMessage', 'content': '', 'tool_calls': [{'tool_name': 'fill_element', 'input': {'selector': '#password', 'text': 'linkedin password'}}]}]\n",
    "# [{'type': 'ToolMessage', 'content': 'Filled element #password with text linkedin password', 'tool_name': 'fill_element'}]\n",
    "# [{'type': 'AIMessage', 'content': '', 'tool_calls': [{'tool_name': 'click_element', 'input': {'selector': 'button.btn__primary--large.from__button--floating'}}]}]\n",
    "# [{'type': 'ToolMessage', 'content': \"Clicked element 'button.btn__primary--large.from__button--floating'\", 'tool_name': 'click_element'}]\n",
    "# [{'type': 'AIMessage', 'content': 'elements_summary = [{\"selector\": \"button.artdeco-global-alert-action.artdeco-button.artdeco-button--inverse.artdeco-button--2.artdeco-button--primary\", \"attributes\": {\"id\": null, \"aria-label\": null, \"type\": null, \"maxlength\": null}, \"possible_actions\": [\"click\"]}, {\"selector\": \"button.artdeco-global-alert-action.artdeco-button.artdeco-button--inverse.artdeco-button--2.artdeco-button--primary\", \"attributes\": {\"id\": null, \"aria-label\": null, \"type\": null, \"maxlength\": null}, \"possible_actions\": [\"click\"]}, {\"selector\": \"button.sign-in-with-apple-button\", \"attributes\": {\"id\": null, \"aria-label\": \"Sign in with Apple\", \"type\": \"button\", \"maxlength\": null}, \"possible_actions\": [\"click\"]}, {\"selector\": \"#username\", \"attributes\": {\"id\": \"username\", \"aria-label\": \"Email or phone\", \"type\": \"email\", \"maxlength\": null}, \"possible_actions\": []}, {\"selector\": \"#password\", \"attributes\": {\"id\": \"password\", \"aria-label\": \"Password\", \"type\": \"password\", \"maxlength\": null}, \"possible_actions\": []}, {\"selector\": \"button.btn__primary--large.from__button--floating\", \"attributes\": {\"id\": null, \"aria-label\": \"Sign in\", \"type\": \"submit\", \"maxlength\": null}, \"possible_actions\": [\"click\"]}, {\"selector\": \"#btn-resend-otp\", \"attributes\": {\"id\": \"btn-resend-otp\", \"aria-label\": \"Resend email\", \"type\": \"button\", \"maxlength\": null}, \"possible_actions\": []}, {\"selector\": \"#otp-cancel-button\", \"attributes\": {\"id\": \"otp-cancel-button\", \"aria-label\": \"Back\", \"type\": null, \"maxlength\": null}, \"possible_actions\": []}, {\"selector\": \"button.language-selector__button\", \"attributes\": {\"id\": null, \"aria-label\": null, \"type\": null, \"maxlength\": null}, \"possible_actions\": [\"click\"]}, {\"selector\": \"button.language-selector__link\", \"attributes\": {\"id\": null, \"aria-label\": \"العربية (Arabic) 1 of 36 \", \"type\": \"button\", \"maxlength\": null}, \"possible_actions\": []}, {\"selector\": \"button.language-selector__link\", \"attributes\": {\"id\": null, \"aria-label\": \"বাংলা (Bangla) 2 of 36 \", \"type\": \"button\", \"maxlength\": null}, \"possible_actions\": []}, {\"selector\": \"button.language-selector__link\", \"attributes\": {\"id\": null, \"aria-label\": \"Čeština (Czech) 3 of 36 \", \"type\": \"button\", \"maxlength\": null}, \"possible_actions\": []}, {\"selector\": \"button.language-selector__link\", \"attributes\": {\"id\": null, \"aria-label\": \"Dansk (Danish) 4 of 36 \", \"type\": \"button\", \"maxlength\": null}, \"possible_actions\": []}, {\"selector\": \"button.language-selector__link\", \"attributes\": {\"id\": null, \"aria-label\": \"Deutsch (German) 5 of 36 \", \"type\": \"button\", \"maxlength\": null}, \"possible_actions\": []}, {\"selector\": \"button.language-selector__link\", \"attributes\": {\"id\": null, \"aria-label\": \"Ελληνικά (Greek) 6 of 36 \", \"type\": \"button\", \"maxlength\": null}, \"possible_actions\": []}, {\"selector\": \"button.language-selector__link.language-selector__link--selected\", \"attributes\": {\"id\": null, \"aria-label\": \"English (English) 7 of 36 selected\", \"type\": \"button\", \"maxlength\": null}, \"possible_actions\": []}, {\"selector\": \"button.language-selector__link\", \"attributes\": {\"id\": null, \"aria-label\": \"Español (Spanish) 8 of 36 \", \"type\": \"button\", \"maxlength\": null}, \"possible_actions\": []}, {\"selector\": \"button.language-selector__link\", \"attributes\": {\"id\": null, \"aria-label\": \"मराठी (Marathi) 19 of 36 \", \"type\": \"button\", \"maxlength\": null}, \"possible_actions\": []}, {\"selector\": \"button.language-selector__link\", \"attributes\": {\"id\": null, \"aria-label\": \"Bahasa Malaysia (Malay) 20 of 36 \", \"type\": \"button\", \"maxlength\": null}, \"possible_actions\": []}, {\"selector\": \"button.language-selector__link\", \"attributes\": {\"id\": null, \"aria-label\": \"Nederlands (Dutch) 21 of 36 \", \"type\": \"button\", \"maxlength\": null}, \"possible_actions\": []}, {\"selector\": \"button.language-selector__link\", \"attributes\": {\"id\": null, \"aria-label\": \"Norsk (Norwegian) 22 of 36 \", \"type\": \"button\", \"maxlength\": null}, \"possible_actions\": []}, {\"selector\": \"button.language-selector__link\", \"attributes\": {\"id\": null, \"aria-label\": \"ਪੰਜਾਬੀ (Punjabi) 23 of 36 \", \"type\": \"button\", \"maxlength\": null}, \"possible_actions\": []}, {\"selector\": \"button.language-selector__link\", \"attributes\": {\"id\": null, \"aria-label\": \"Polski (Polish) 24 of 36 \", \"type\": \"button\", \"maxlength\": null}, \"possible_actions\": []}, {\"selector\": \"button.language-selector__link\", \"attributes\": {\"id\": null, \"aria-label\": \"Português (Portuguese) 25 of 36 \", \"type\": \"button\", \"maxlength\": null}, \"possible_actions\": []}, {\"selector\": \"button.language-selector__link\", \"attributes\": {\"id\": null, \"aria-label\": \"Română (Romanian) 26 of 36 \", \"type\": \"button\", \"maxlength\": null}, \"possible_actions\": []}, {\"selector\": \"button.language-selector__link\", \"attributes\": {\"id\": null, \"aria-label\": \"Русский (Russian) 27 of 36 \", \"type\": \"button\", \"maxlength\": null}, \"possible_actions\": []}, {\"selector\": \"button.language-selector__link\", \"attributes\": {\"id\": null, \"aria-label\": \"Svenska (Swedish) 28 of 36 \", \"type\": \"button\", \"maxlength\": null}, \"possible_actions\": []}, {\"selector\": \"button.language-selector__link\", \"attributes\": {\"id\": null, \"aria-label\": \"తెలుగు (Telugu) 29 of 36 \", \"type\": \"button\", \"maxlength\": null}, \"possible_actions\": []}, {\"selector\": \"button.language-selector__link\", \"attributes\": {\"id\": null, \"aria-label\": \"ภาษาไทย (Thai) 30 of 36 \", \"type\": \"button\", \"maxlength\": null}, \"possible_actions\": []}, {\"selector\": \"button.language-selector__link\", \"attributes\": {\"id\": null, \"aria-label\": \"Tagalog (Tagalog) 31 of 36 \", \"type\": \"button\", \"maxlength\": null}, \"possible_actions\": []}, {\"selector\": \"button.language-selector__link\", \"attributes\": {\"id\": null, \"aria-label\": \"Türkçe (Turkish) 32 of 36 \", \"type\": \"button\", \"maxlength\": null}, \"possible_actions\": []}, {\"selector\": \"button.language-selector__link\", \"attributes\": {\"id\": null, \"aria-label\": \"Українська (Ukrainian) 33 of 36 \", \"type\": \"button\", \"maxlength\": null}, \"possible_actions\": []}, {\"selector\": \"button.language-selector__link\", \"attributes\": {\"id\": null, \"aria-label\": \"Tiếng Việt (Vietnamese) 34 of 36 \", \"type\": \"button\", \"maxlength\": null}, \"possible_actions\": []}, {\"selector\": \"button.language-selector__link\", \"attributes\": {\"id\": null, \"aria-label\": \"简体中文 (Chinese (Simplified)) 35 of 36 \", \"type\": \"button\", \"maxlength\": null}, \"possible_actions\": []}, {\"selector\": \"button.language-selector__link\", \"attributes\": {\"id\": null, \"aria-label\": \"正體中文 (Chinese (Traditional)) 36 of 36 \", \"type\": \"button\", \"maxlength\": null}, \"possible_actions\": []}]\\n\\nWe are now on the LinkedIn login page.', 'tool_calls': []}]"
   ]
  },
  {
   "cell_type": "code",
   "execution_count": null,
   "id": "813007ad",
   "metadata": {},
   "outputs": [],
   "source": [
    "# How to use request library to chat with locally served ollama model.\n",
    "# https://github.com/ollama/ollama/blob/main/docs/api.md#generate-a-completion\n",
    "# https://github.com/ollama/ollama\n",
    "# import requests\n",
    "\n",
    "# url = \"http://localhost:11434/api/generate\"\n",
    "# data = {\n",
    "#     \"model\": \"gemma3:12b-it-qat\",\n",
    "#     \"prompt\": \"Why is the sky blue?\",\n",
    "#     \"stream\": False\n",
    "# }\n",
    "\n",
    "# response = requests.post(url, json=data)\n",
    "# print(response.text)\n"
   ]
  }
 ],
 "metadata": {
  "kernelspec": {
   "display_name": "jobautomation",
   "language": "python",
   "name": "python3"
  },
  "language_info": {
   "codemirror_mode": {
    "name": "ipython",
    "version": 3
   },
   "file_extension": ".py",
   "mimetype": "text/x-python",
   "name": "python",
   "nbconvert_exporter": "python",
   "pygments_lexer": "ipython3",
   "version": "3.11.11"
  }
 },
 "nbformat": 4,
 "nbformat_minor": 5
}
